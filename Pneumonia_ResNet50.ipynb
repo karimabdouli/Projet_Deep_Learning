{
  "nbformat": 4,
  "nbformat_minor": 0,
  "metadata": {
    "accelerator": "GPU",
    "colab": {
      "name": "Pneumonia-ResNet50.ipynb",
      "provenance": [],
      "collapsed_sections": []
    },
    "kernelspec": {
      "display_name": "Python 3",
      "name": "python3"
    },
    "widgets": {
      "application/vnd.jupyter.widget-state+json": {
        "e581c446b86f41a0b4273402d48595cb": {
          "model_module": "@jupyter-widgets/controls",
          "model_name": "HBoxModel",
          "state": {
            "_view_name": "HBoxView",
            "_dom_classes": [],
            "_model_name": "HBoxModel",
            "_view_module": "@jupyter-widgets/controls",
            "_model_module_version": "1.5.0",
            "_view_count": null,
            "_view_module_version": "1.5.0",
            "box_style": "",
            "layout": "IPY_MODEL_a1a462bfdd194f859a5f997b2e8a5fc2",
            "_model_module": "@jupyter-widgets/controls",
            "children": [
              "IPY_MODEL_b2ee490be4a84bef96a0b8220cd482b6",
              "IPY_MODEL_74a56faa228646fb8cf22005cc3f1c66"
            ]
          }
        },
        "a1a462bfdd194f859a5f997b2e8a5fc2": {
          "model_module": "@jupyter-widgets/base",
          "model_name": "LayoutModel",
          "state": {
            "_view_name": "LayoutView",
            "grid_template_rows": null,
            "right": null,
            "justify_content": null,
            "_view_module": "@jupyter-widgets/base",
            "overflow": null,
            "_model_module_version": "1.2.0",
            "_view_count": null,
            "flex_flow": null,
            "width": null,
            "min_width": null,
            "border": null,
            "align_items": null,
            "bottom": null,
            "_model_module": "@jupyter-widgets/base",
            "top": null,
            "grid_column": null,
            "overflow_y": null,
            "overflow_x": null,
            "grid_auto_flow": null,
            "grid_area": null,
            "grid_template_columns": null,
            "flex": null,
            "_model_name": "LayoutModel",
            "justify_items": null,
            "grid_row": null,
            "max_height": null,
            "align_content": null,
            "visibility": null,
            "align_self": null,
            "height": null,
            "min_height": null,
            "padding": null,
            "grid_auto_rows": null,
            "grid_gap": null,
            "max_width": null,
            "order": null,
            "_view_module_version": "1.2.0",
            "grid_template_areas": null,
            "object_position": null,
            "object_fit": null,
            "grid_auto_columns": null,
            "margin": null,
            "display": null,
            "left": null
          }
        },
        "b2ee490be4a84bef96a0b8220cd482b6": {
          "model_module": "@jupyter-widgets/controls",
          "model_name": "FloatProgressModel",
          "state": {
            "_view_name": "ProgressView",
            "style": "IPY_MODEL_f2bf9f784e6a46bcbfb41858e4a19a75",
            "_dom_classes": [],
            "description": "100%",
            "_model_name": "FloatProgressModel",
            "bar_style": "success",
            "max": 102502400,
            "_view_module": "@jupyter-widgets/controls",
            "_model_module_version": "1.5.0",
            "value": 102502400,
            "_view_count": null,
            "_view_module_version": "1.5.0",
            "orientation": "horizontal",
            "min": 0,
            "description_tooltip": null,
            "_model_module": "@jupyter-widgets/controls",
            "layout": "IPY_MODEL_88cb4d8cac1c489da8d5ddfa0029c549"
          }
        },
        "74a56faa228646fb8cf22005cc3f1c66": {
          "model_module": "@jupyter-widgets/controls",
          "model_name": "HTMLModel",
          "state": {
            "_view_name": "HTMLView",
            "style": "IPY_MODEL_fbfac256f1a44affa65e629fc077d5c1",
            "_dom_classes": [],
            "description": "",
            "_model_name": "HTMLModel",
            "placeholder": "​",
            "_view_module": "@jupyter-widgets/controls",
            "_model_module_version": "1.5.0",
            "value": " 97.8M/97.8M [00:00&lt;00:00, 256MB/s]",
            "_view_count": null,
            "_view_module_version": "1.5.0",
            "description_tooltip": null,
            "_model_module": "@jupyter-widgets/controls",
            "layout": "IPY_MODEL_c870d4597d08427eb381eff3be885923"
          }
        },
        "f2bf9f784e6a46bcbfb41858e4a19a75": {
          "model_module": "@jupyter-widgets/controls",
          "model_name": "ProgressStyleModel",
          "state": {
            "_view_name": "StyleView",
            "_model_name": "ProgressStyleModel",
            "description_width": "initial",
            "_view_module": "@jupyter-widgets/base",
            "_model_module_version": "1.5.0",
            "_view_count": null,
            "_view_module_version": "1.2.0",
            "bar_color": null,
            "_model_module": "@jupyter-widgets/controls"
          }
        },
        "88cb4d8cac1c489da8d5ddfa0029c549": {
          "model_module": "@jupyter-widgets/base",
          "model_name": "LayoutModel",
          "state": {
            "_view_name": "LayoutView",
            "grid_template_rows": null,
            "right": null,
            "justify_content": null,
            "_view_module": "@jupyter-widgets/base",
            "overflow": null,
            "_model_module_version": "1.2.0",
            "_view_count": null,
            "flex_flow": null,
            "width": null,
            "min_width": null,
            "border": null,
            "align_items": null,
            "bottom": null,
            "_model_module": "@jupyter-widgets/base",
            "top": null,
            "grid_column": null,
            "overflow_y": null,
            "overflow_x": null,
            "grid_auto_flow": null,
            "grid_area": null,
            "grid_template_columns": null,
            "flex": null,
            "_model_name": "LayoutModel",
            "justify_items": null,
            "grid_row": null,
            "max_height": null,
            "align_content": null,
            "visibility": null,
            "align_self": null,
            "height": null,
            "min_height": null,
            "padding": null,
            "grid_auto_rows": null,
            "grid_gap": null,
            "max_width": null,
            "order": null,
            "_view_module_version": "1.2.0",
            "grid_template_areas": null,
            "object_position": null,
            "object_fit": null,
            "grid_auto_columns": null,
            "margin": null,
            "display": null,
            "left": null
          }
        },
        "fbfac256f1a44affa65e629fc077d5c1": {
          "model_module": "@jupyter-widgets/controls",
          "model_name": "DescriptionStyleModel",
          "state": {
            "_view_name": "StyleView",
            "_model_name": "DescriptionStyleModel",
            "description_width": "",
            "_view_module": "@jupyter-widgets/base",
            "_model_module_version": "1.5.0",
            "_view_count": null,
            "_view_module_version": "1.2.0",
            "_model_module": "@jupyter-widgets/controls"
          }
        },
        "c870d4597d08427eb381eff3be885923": {
          "model_module": "@jupyter-widgets/base",
          "model_name": "LayoutModel",
          "state": {
            "_view_name": "LayoutView",
            "grid_template_rows": null,
            "right": null,
            "justify_content": null,
            "_view_module": "@jupyter-widgets/base",
            "overflow": null,
            "_model_module_version": "1.2.0",
            "_view_count": null,
            "flex_flow": null,
            "width": null,
            "min_width": null,
            "border": null,
            "align_items": null,
            "bottom": null,
            "_model_module": "@jupyter-widgets/base",
            "top": null,
            "grid_column": null,
            "overflow_y": null,
            "overflow_x": null,
            "grid_auto_flow": null,
            "grid_area": null,
            "grid_template_columns": null,
            "flex": null,
            "_model_name": "LayoutModel",
            "justify_items": null,
            "grid_row": null,
            "max_height": null,
            "align_content": null,
            "visibility": null,
            "align_self": null,
            "height": null,
            "min_height": null,
            "padding": null,
            "grid_auto_rows": null,
            "grid_gap": null,
            "max_width": null,
            "order": null,
            "_view_module_version": "1.2.0",
            "grid_template_areas": null,
            "object_position": null,
            "object_fit": null,
            "grid_auto_columns": null,
            "margin": null,
            "display": null,
            "left": null
          }
        }
      }
    }
  },
  "cells": [
    {
      "cell_type": "code",
      "metadata": {
        "id": "e8jTsyONe5mT"
      },
      "source": [
        "import os\r\n",
        "from torchvision import transforms, datasets, models\r\n",
        "from torch.utils.data import DataLoader\r\n",
        "import torch.nn as nn\r\n",
        "import torch\r\n",
        "from torch import optim\r\n",
        "from timeit import default_timer\r\n",
        "import numpy as np\r\n",
        "import pandas as pd"
      ],
      "execution_count": 49,
      "outputs": []
    },
    {
      "cell_type": "code",
      "metadata": {
        "id": "cBM7xWUTe8o-"
      },
      "source": [
        "data_path = '../chest_xray'         ## chemin vers le dossier contenant les données\r\n",
        "train_path = data_path + '/train/'  ## chemin des données d'entrainement\r\n",
        "val_path = data_path + '/val/'      ## chemin des données de validation\r\n",
        "test_path = data_path + '/test/'    ## chemin des données de tes\r\n",
        "\r\n",
        "save_path = 'model.pth'"
      ],
      "execution_count": 50,
      "outputs": []
    },
    {
      "cell_type": "code",
      "metadata": {
        "id": "KIw9HZtaN0vE"
      },
      "source": [
        "image_transforms = {\r\n",
        "    'train':\r\n",
        "    transforms.Compose([\r\n",
        "        transforms.RandomResizedCrop(size=256, scale=(0.8, 1.0)),     ## changement des différentes transformations pour l'augmentation de données\r\n",
        "        transforms.RandomRotation(degrees=15),\r\n",
        "        transforms.ColorJitter(),\r\n",
        "        transforms.RandomHorizontalFlip(),\r\n",
        "        transforms.CenterCrop(size=224),  \r\n",
        "        transforms.ToTensor(),\r\n",
        "        transforms.Normalize([0.485, 0.456, 0.406],\r\n",
        "                             [0.229, 0.224, 0.225])\r\n",
        "    ]),\r\n",
        "    'val':\r\n",
        "    transforms.Compose([\r\n",
        "        transforms.Resize(size=256),\r\n",
        "        transforms.CenterCrop(size=224),\r\n",
        "        transforms.ToTensor(),\r\n",
        "        transforms.Normalize([0.485, 0.456, 0.406], [0.229, 0.224, 0.225])\r\n",
        "    ]),\r\n",
        "  \r\n",
        "    'test':\r\n",
        "    transforms.Compose([\r\n",
        "        transforms.Resize(size=256),\r\n",
        "        transforms.CenterCrop(size=224),\r\n",
        "        transforms.ToTensor(),\r\n",
        "        transforms.Normalize([0.485, 0.456, 0.406], [0.229, 0.224, 0.225])\r\n",
        "    ]),\r\n",
        "}"
      ],
      "execution_count": 51,
      "outputs": []
    },
    {
      "cell_type": "code",
      "metadata": {
        "id": "_QJewfoNe_iE"
      },
      "source": [
        ""
      ],
      "execution_count": 51,
      "outputs": []
    },
    {
      "cell_type": "code",
      "metadata": {
        "id": "WS6__yhMgXNk"
      },
      "source": [
        "data = {\r\n",
        "    'train':\r\n",
        "    datasets.ImageFolder(root=train_path, transform=image_transforms['train']),\r\n",
        "    'val':\r\n",
        "    datasets.ImageFolder(root=val_path, transform=image_transforms['val']),\r\n",
        "    'test':\r\n",
        "    datasets.ImageFolder(root=test_path, transform=image_transforms['test'])\r\n",
        "}\r\n"
      ],
      "execution_count": 52,
      "outputs": []
    },
    {
      "cell_type": "code",
      "metadata": {
        "id": "dHvlfsmHg5ln"
      },
      "source": [
        "batch_size = 128    ## choix de la taille des batchs\r\n",
        "\r\n",
        "dataloaders = {\r\n",
        "    'train': DataLoader(data['train'], batch_size=batch_size, shuffle=True),\r\n",
        "    'val': DataLoader(data['val'], batch_size=batch_size, shuffle=True),\r\n",
        "    'test': DataLoader(data['test'], batch_size=batch_size, shuffle=True)\r\n",
        "}"
      ],
      "execution_count": 53,
      "outputs": []
    },
    {
      "cell_type": "code",
      "metadata": {
        "id": "9q90poS-iIXr"
      },
      "source": [
        "trainiter = iter(dataloaders['train'])\r\n",
        "features, labels = next(trainiter)"
      ],
      "execution_count": 54,
      "outputs": []
    },
    {
      "cell_type": "code",
      "metadata": {
        "id": "eatV2J-Kib6P",
        "colab": {
          "base_uri": "https://localhost:8080/",
          "height": 82,
          "referenced_widgets": [
            "e581c446b86f41a0b4273402d48595cb",
            "a1a462bfdd194f859a5f997b2e8a5fc2",
            "b2ee490be4a84bef96a0b8220cd482b6",
            "74a56faa228646fb8cf22005cc3f1c66",
            "f2bf9f784e6a46bcbfb41858e4a19a75",
            "88cb4d8cac1c489da8d5ddfa0029c549",
            "fbfac256f1a44affa65e629fc077d5c1",
            "c870d4597d08427eb381eff3be885923"
          ]
        },
        "outputId": "fbf1e9b0-8b55-4b66-98b2-9ea4afc3b237"
      },
      "source": [
        "model = models.resnet50(pretrained=True)  ## choix du modèle pré-entrainé"
      ],
      "execution_count": 55,
      "outputs": [
        {
          "output_type": "stream",
          "text": [
            "Downloading: \"https://download.pytorch.org/models/resnet50-19c8e357.pth\" to /root/.cache/torch/hub/checkpoints/resnet50-19c8e357.pth\n"
          ],
          "name": "stderr"
        },
        {
          "output_type": "display_data",
          "data": {
            "application/vnd.jupyter.widget-view+json": {
              "model_id": "e581c446b86f41a0b4273402d48595cb",
              "version_minor": 0,
              "version_major": 2
            },
            "text/plain": [
              "HBox(children=(FloatProgress(value=0.0, max=102502400.0), HTML(value='')))"
            ]
          },
          "metadata": {
            "tags": []
          }
        },
        {
          "output_type": "stream",
          "text": [
            "\n"
          ],
          "name": "stdout"
        }
      ]
    },
    {
      "cell_type": "code",
      "metadata": {
        "id": "27RY09bsjiCh"
      },
      "source": [
        "for param in model.parameters():\r\n",
        "    param.requires_grad = False"
      ],
      "execution_count": 56,
      "outputs": []
    },
    {
      "cell_type": "code",
      "metadata": {
        "id": "lZsjpWQ1jtGQ",
        "colab": {
          "base_uri": "https://localhost:8080/",
          "height": 363
        },
        "outputId": "0d9bc2c8-e662-4fa8-dc07-c2fef59cd3e9"
      },
      "source": [
        "n_inputs = model.fc.in_features\r\n",
        "model.fc = nn.Sequential(\r\n",
        "    nn.Linear(n_inputs, 2), nn.LogSoftmax(dim=1))  ## choix de remplacement de la dernière couche permettant la classification de 2 classes\r\n",
        " \r\n",
        "model = model.to('cuda')\r\n"
      ],
      "execution_count": 57,
      "outputs": [
        {
          "output_type": "error",
          "ename": "ModuleAttributeError",
          "evalue": "ignored",
          "traceback": [
            "\u001b[0;31m---------------------------------------------------------------------------\u001b[0m",
            "\u001b[0;31mModuleAttributeError\u001b[0m                      Traceback (most recent call last)",
            "\u001b[0;32m<ipython-input-57-68633910bcc5>\u001b[0m in \u001b[0;36m<module>\u001b[0;34m()\u001b[0m\n\u001b[0;32m----> 1\u001b[0;31m \u001b[0mn_inputs\u001b[0m \u001b[0;34m=\u001b[0m \u001b[0mmodel\u001b[0m\u001b[0;34m.\u001b[0m\u001b[0mclassifier\u001b[0m\u001b[0;34m[\u001b[0m\u001b[0;36m6\u001b[0m\u001b[0;34m]\u001b[0m\u001b[0;34m.\u001b[0m\u001b[0min_features\u001b[0m\u001b[0;34m\u001b[0m\u001b[0;34m\u001b[0m\u001b[0m\n\u001b[0m\u001b[1;32m      2\u001b[0m \u001b[0;34m\u001b[0m\u001b[0m\n\u001b[1;32m      3\u001b[0m \u001b[0mn_inputs\u001b[0m \u001b[0;34m=\u001b[0m \u001b[0mmodel\u001b[0m\u001b[0;34m.\u001b[0m\u001b[0mfc\u001b[0m\u001b[0;34m.\u001b[0m\u001b[0min_features\u001b[0m\u001b[0;34m\u001b[0m\u001b[0;34m\u001b[0m\u001b[0m\n\u001b[1;32m      4\u001b[0m model.fc = nn.Sequential(\n\u001b[1;32m      5\u001b[0m     nn.Linear(n_inputs, 2), nn.LogSoftmax(dim=1))  ## choix de remplacement de la dernière couche permettant la classification de 2 classes\n",
            "\u001b[0;32m/usr/local/lib/python3.7/dist-packages/torch/nn/modules/module.py\u001b[0m in \u001b[0;36m__getattr__\u001b[0;34m(self, name)\u001b[0m\n\u001b[1;32m    777\u001b[0m                 \u001b[0;32mreturn\u001b[0m \u001b[0mmodules\u001b[0m\u001b[0;34m[\u001b[0m\u001b[0mname\u001b[0m\u001b[0;34m]\u001b[0m\u001b[0;34m\u001b[0m\u001b[0;34m\u001b[0m\u001b[0m\n\u001b[1;32m    778\u001b[0m         raise ModuleAttributeError(\"'{}' object has no attribute '{}'\".format(\n\u001b[0;32m--> 779\u001b[0;31m             type(self).__name__, name))\n\u001b[0m\u001b[1;32m    780\u001b[0m \u001b[0;34m\u001b[0m\u001b[0m\n\u001b[1;32m    781\u001b[0m     \u001b[0;32mdef\u001b[0m \u001b[0m__setattr__\u001b[0m\u001b[0;34m(\u001b[0m\u001b[0mself\u001b[0m\u001b[0;34m,\u001b[0m \u001b[0mname\u001b[0m\u001b[0;34m:\u001b[0m \u001b[0mstr\u001b[0m\u001b[0;34m,\u001b[0m \u001b[0mvalue\u001b[0m\u001b[0;34m:\u001b[0m \u001b[0mUnion\u001b[0m\u001b[0;34m[\u001b[0m\u001b[0mTensor\u001b[0m\u001b[0;34m,\u001b[0m \u001b[0;34m'Module'\u001b[0m\u001b[0;34m]\u001b[0m\u001b[0;34m)\u001b[0m \u001b[0;34m->\u001b[0m \u001b[0;32mNone\u001b[0m\u001b[0;34m:\u001b[0m\u001b[0;34m\u001b[0m\u001b[0;34m\u001b[0m\u001b[0m\n",
            "\u001b[0;31mModuleAttributeError\u001b[0m: 'ResNet' object has no attribute 'classifier'"
          ]
        }
      ]
    },
    {
      "cell_type": "code",
      "metadata": {
        "id": "poKAIMK6j33f"
      },
      "source": [
        "criterion = nn.NLLLoss()                                  ## choix de la fonction de perte\r\n",
        "optimizer = optim.Adam(model.parameters(), lr = 0.05)     ## choix de l'algorithme d'optimisation de la descente de gradient"
      ],
      "execution_count": null,
      "outputs": []
    },
    {
      "cell_type": "code",
      "metadata": {
        "id": "jUsdvVQZkJS5"
      },
      "source": [
        "nb_epochs = 10          ## choix du nombre d'epochs\r\n",
        "history = []\r\n",
        "\r\n",
        "for epoch in range(nb_epochs) :\r\n",
        "    start = default_timer()\r\n",
        "\r\n",
        "    \r\n",
        "    train_loss = 0.0\r\n",
        "    valid_loss = 0.0\r\n",
        "    train_acc = 0\r\n",
        "    valid_acc = 0\r\n",
        "\r\n",
        "    valid_loss_min = 1000000\r\n",
        "\r\n",
        "    model.train()\r\n",
        "    for ii, (data, target) in enumerate(dataloaders['train']):\r\n",
        "        data, target = data.cuda(), target.cuda()\r\n",
        "        optimizer.zero_grad()\r\n",
        "        output = model(data)\r\n",
        "        loss = criterion(output, target)\r\n",
        "        loss.backward()\r\n",
        "        optimizer.step()\r\n",
        "        train_loss += loss.item() * data.size(0)\r\n",
        "        pred = torch.max(output, dim=1)[1]\r\n",
        "        correct_tensor = pred.eq(target.data.view_as(pred))\r\n",
        "        correct = np.squeeze(correct_tensor.cpu().numpy())\r\n",
        "        accuracy = torch.mean(correct_tensor.type(torch.FloatTensor))\r\n",
        "        train_acc += accuracy.item() * data.size(0)\r\n",
        "        print(f'Epoch: {epoch}\\t{100 * (ii + 1) / len(dataloaders[\"train\"]):.2f}% complete. {default_timer() - start:.2f} seconds elapsed in epoch.')\r\n",
        "    with torch.no_grad() :\r\n",
        "        model.eval()\r\n",
        "        for data, target in dataloaders['val'] :\r\n",
        "            data, target = data.cuda(), target.cuda()\r\n",
        "            output = model(data)\r\n",
        "            loss = criterion(output, target)\r\n",
        "            valid_loss += loss.item() * data.size(0)\r\n",
        "            pred = torch.max(output, dim=1)[1]\r\n",
        "            correct_tensor = pred.eq(target.data.view_as(pred))\r\n",
        "            accuracy = torch.mean(correct_tensor.type(torch.FloatTensor))\r\n",
        "            valid_acc += accuracy.item() * data.size(0)\r\n",
        "        train_loss = train_loss / len(dataloaders['train'].dataset)\r\n",
        "        valid_loss = valid_loss / len(dataloaders['val'].dataset)\r\n",
        "        train_acc = train_acc / len(dataloaders['train'].dataset)\r\n",
        "        valid_acc = valid_acc / len(dataloaders['val'].dataset)\r\n",
        "        history.append([train_loss, valid_loss, train_acc, valid_acc])\r\n",
        "        if valid_loss < valid_loss_min:\r\n",
        "                    torch.save(model.state_dict(), save_path)\r\n",
        "                    valid_loss_min = valid_loss\r\n",
        "                    valid_best_acc = valid_acc\r\n",
        "                    best_epoch = epoch\r\n",
        "model.optimizer = optimizer\r\n",
        "history = pd.DataFrame(history, columns=['train_loss', 'valid_loss', 'train_acc', 'valid_acc'])\r\n",
        "\r\n",
        "\r\n",
        "print(history)"
      ],
      "execution_count": null,
      "outputs": []
    },
    {
      "cell_type": "code",
      "metadata": {
        "id": "n6QmOPsxnUf6"
      },
      "source": [
        "model.load_state_dict(torch.load(save_path))\r\n",
        "model.eval()"
      ],
      "execution_count": null,
      "outputs": []
    },
    {
      "cell_type": "code",
      "metadata": {
        "id": "Mt7U5WvdK3Ac"
      },
      "source": [
        "test_loader=dataloaders['test']\r\n",
        "test_loss = 0.0\r\n",
        "class_correct = list(0. for i in range(2))\r\n",
        "class_total = list(0. for i in range(2))\r\n",
        "classes = [0,1]\r\n",
        "model.eval()\r\n",
        "i = 1\r\n",
        "for data, target in test_loader:\r\n",
        "    i=i+1\r\n",
        "    if len(target)!=batch_size:\r\n",
        "        continue\r\n",
        "    data, target = data.cuda(), target.cuda()\r\n",
        "    output = model(data)\r\n",
        "    loss = criterion(output, target)\r\n",
        "    test_loss += loss.item()*data.size(0)\r\n",
        "    _, pred = torch.max(output, 1)    \r\n",
        "    correct_tensor = pred.eq(target.data.view_as(pred))\r\n",
        "    correct = np.squeeze(correct_tensor.cpu().numpy())\r\n",
        "    \r\n",
        "    for i in range(batch_size):       \r\n",
        "        label = target.data[i]\r\n",
        "        class_correct[label] += correct[i].item()\r\n",
        "        class_total[label] += 1\r\n",
        "\r\n",
        "test_loss = test_loss/len(test_loader.dataset)\r\n",
        "print('Loss: {:.6f}\\n'.format(test_loss))\r\n",
        "\r\n",
        "for i in range(2):\r\n",
        "    if class_total[i] > 0:\r\n",
        "        print('Précision de test de %5s: %2d%% (%2d/%2d)' % (\r\n",
        "            classes[i], 100 * class_correct[i] / class_total[i],\r\n",
        "            np.sum(class_correct[i]), np.sum(class_total[i])))\r\n",
        "\r\n",
        "print('\\nPrécision de test (Total): %2d%% (%2d/%2d)' % (\r\n",
        "    100. * np.sum(class_correct) / np.sum(class_total),\r\n",
        "    np.sum(class_correct), np.sum(class_total)))"
      ],
      "execution_count": null,
      "outputs": []
    },
    {
      "cell_type": "code",
      "metadata": {
        "id": "SNR_PxBoD4-L"
      },
      "source": [
        ""
      ],
      "execution_count": null,
      "outputs": []
    }
  ]
}